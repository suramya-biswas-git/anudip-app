{
 "cells": [
  {
   "cell_type": "code",
   "execution_count": 3,
   "id": "0219447e-4806-497d-9c71-972b21920a9a",
   "metadata": {},
   "outputs": [],
   "source": [
    "import mysql.connector\n",
    "def mydbconnect():\n",
    "     mydb = mysql.connector.connect (\n",
    "     host=\"localhost\",\n",
    "     user=\"root\",\n",
    "     password=\"root\",\n",
    "     database=\"ecomdb1\"\n",
    "      )\n",
    "     return mydb"
   ]
  },
  {
   "cell_type": "code",
   "execution_count": 7,
   "id": "680ef732-1cac-4aa0-8490-55ac64f80f48",
   "metadata": {},
   "outputs": [
    {
     "name": "stdout",
     "output_type": "stream",
     "text": [
      "(101, 'Admin', 'Kolkata')\n",
      "(102, 'Finance', 'Delhi')\n",
      "(103, 'Production', 'Hyderabad')\n",
      "(104, 'Sale', 'Pune')\n",
      "(105, 'Purchase', 'Kolkata')\n",
      "(106, 'Welfare', None)\n",
      "(107, 'CustCare', None)\n",
      "(108, 'Utilization', 'Delhi')\n",
      "(109, 'HR', 'Hyderabad')\n",
      "(1010, 'Education', 'Kolkata')\n",
      "(1011, 'IT', 'Delhi')\n",
      "(1012, 'Service', 'Kolkata')\n"
     ]
    }
   ],
   "source": [
    "mydb=mydbconnect()\n",
    "mycursor = mydb.cursor()\n",
    "\n",
    "mycursor.execute(\"SELECT * FROM department\")\n",
    "\n",
    "myresult = mycursor.fetchall()\n",
    "\n",
    "for x in myresult:\n",
    "  print(x)\n",
    "\n",
    "mydb.close()\n"
   ]
  },
  {
   "cell_type": "code",
   "execution_count": 11,
   "id": "d2c459b9-e344-41be-b26a-7611e776ef60",
   "metadata": {},
   "outputs": [
    {
     "name": "stdout",
     "output_type": "stream",
     "text": [
      "('E1001', 'Rina', Decimal('50000.00'), 'Admin', 'Kolkata')\n",
      "('E1002', 'Tina', Decimal('30000.00'), 'Admin', 'Kolkata')\n",
      "('E1003', 'Jina', Decimal('15000.00'), 'Admin', 'Kolkata')\n",
      "('E1004', 'Lina', Decimal('33000.00'), 'Admin', 'Kolkata')\n",
      "('E1005', 'Mina', Decimal('25000.00'), 'Admin', 'Kolkata')\n",
      "('E1006', 'Dina', Decimal('32000.00'), 'Admin', 'Kolkata')\n",
      "('E1007', 'Liz', Decimal('25000.00'), 'Finance', 'Delhi')\n",
      "('E1008', 'Ann', Decimal('35000.00'), 'Finance', 'Delhi')\n",
      "('E1009', 'Julie', Decimal('65000.00'), 'Finance', 'Delhi')\n",
      "('E1010', 'Mary', Decimal('35000.00'), 'Finance', 'Delhi')\n",
      "('E1011', 'Rita', Decimal('45000.00'), 'Production', 'Hyderabad')\n",
      "('E1012', 'Nita', Decimal('20000.00'), 'Production', 'Hyderabad')\n",
      "('E1013', 'Gita', Decimal('75000.00'), 'Production', 'Hyderabad')\n",
      "('E1014', 'Riya', Decimal('12000.00'), 'Purchase', 'Kolkata')\n",
      "('E1015', 'Diya', Decimal('55000.00'), 'Purchase', 'Kolkata')\n"
     ]
    }
   ],
   "source": [
    "mydb=mydbconnect()\n",
    "mycursor = mydb.cursor()\n",
    "sqlstmt=\"select e.emp_id,e.emp_name,e.salary,d.dept_name,d.location from employee e join department d on e.dept_id=d.dept_id\" \n",
    "\n",
    "mycursor.execute(sqlstmt)\n",
    "myresult = mycursor.fetchall()\n",
    "\n",
    "for x in myresult:\n",
    "  print(x)\n",
    "mydb.close()"
   ]
  },
  {
   "cell_type": "code",
   "execution_count": 16,
   "id": "7eabd34f-4042-454c-aa47-5e371a8f81ae",
   "metadata": {},
   "outputs": [
    {
     "name": "stdin",
     "output_type": "stream",
     "text": [
      "Enter Department Id: 1015\n",
      "Enter Department Name: Welfare\n",
      "Enter Department Location: Mumbai\n"
     ]
    },
    {
     "name": "stdout",
     "output_type": "stream",
     "text": [
      "new record inserted\n"
     ]
    }
   ],
   "source": [
    "id=int(input(\"Enter Department Id:\"))\n",
    "name=input(\"Enter Department Name:\")\n",
    "loc=input(\"Enter Department Location:\")\n",
    "mydb=mydbconnect()\n",
    "mycursor = mydb.cursor()\n",
    "sqlstmt=\"insert into department values(%s,%s,%s)\"\n",
    "vals=(id,name,loc)\n",
    "mycursor.execute(sqlstmt,vals)\n",
    "mydb.commit()\n",
    "print('new record inserted')\n",
    "mydb.close()"
   ]
  },
  {
   "cell_type": "code",
   "execution_count": 1,
   "id": "ae8f34e5-9896-4d6e-8c69-d21893d76ada",
   "metadata": {},
   "outputs": [
    {
     "ename": "SyntaxError",
     "evalue": "invalid syntax (1746649854.py, line 1)",
     "output_type": "error",
     "traceback": [
      "\u001b[1;36m  Cell \u001b[1;32mIn[1], line 1\u001b[1;36m\u001b[0m\n\u001b[1;33m    mysql> use StudentManagementSystem;\u001b[0m\n\u001b[1;37m               ^\u001b[0m\n\u001b[1;31mSyntaxError\u001b[0m\u001b[1;31m:\u001b[0m invalid syntax\n"
     ]
    }
   ],
   "source": [
    "mysql> use StudentManagementSystem;\n",
    "Database changed\n",
    "mysql> CREATE TABLE  Student (\n",
    "    ->     StudentID INT NOT NULL PRIMARY KEY,\n",
    "    ->     FirstName VARCHAR(50) NOT NULL,\n",
    "    ->     LastName VARCHAR(50) NOT NULL,\n",
    "    ->     DateOfBirth DATE NOT NULL,\n",
    "    ->     Gender VARCHAR(10) NOT NULL,\n",
    "    ->     Email VARCHAR(100) NOT NULL,\n",
    "    ->     Phone VARCHAR(20) NOT NULL\n",
    "    -> );\n",
    "Query OK, 0 rows affected (0.02 sec)\n",
    "\n",
    "mysql> desc Student;\n",
    "+-------------+--------------+------+-----+---------+-------+\n",
    "| Field       | Type         | Null | Key | Default | Extra |\n",
    "+-------------+--------------+------+-----+---------+-------+\n",
    "| StudentID   | int          | NO   | PRI | NULL    |       |\n",
    "| FirstName   | varchar(50)  | NO   |     | NULL    |       |\n",
    "| LastName    | varchar(50)  | NO   |     | NULL    |       |\n",
    "| DateOfBirth | date         | NO   |     | NULL    |       |\n",
    "| Gender      | varchar(10)  | NO   |     | NULL    |       |\n",
    "| Email       | varchar(100) | NO   |     | NULL    |       |\n",
    "| Phone       | varchar(20)  | NO   |     | NULL    |       |\n",
    "+-------------+--------------+------+-----+---------+-------+\n",
    "7 rows in set (0.00 sec)\n"
   ]
  },
  {
   "cell_type": "code",
   "execution_count": 13,
   "id": "17657591-cda6-4189-b77e-3603553a31f5",
   "metadata": {},
   "outputs": [
    {
     "name": "stderr",
     "output_type": "stream",
     "text": [
      "C:\\Users\\suram\\AppData\\Local\\Temp\\ipykernel_22988\\1566931620.py:7: UserWarning: pandas only supports SQLAlchemy connectable (engine/connection) or database string URI or sqlite3 DBAPI2 connection. Other DBAPI2 objects are not tested. Please consider using SQLAlchemy.\n",
      "  sql_query = pd.read_sql_query(sqlstmt,mydb)\n"
     ]
    },
    {
     "data": {
      "image/png": "[encoded data removed]",
      "text/plain": [
       "<Figure size 640x480 with 1 Axes>"
      ]
     },
     "metadata": {},
     "output_type": "display_data"
    }
   ],
   "source": [
    "import pandas as pd\n",
    "import matplotlib.pyplot as plt\n",
    "import numpy as np\n",
    "\n",
    "mydb=mydbconnect()\n",
    "sqlstmt=\"select location from department where location is not null\" \n",
    "sql_query = pd.read_sql_query(sqlstmt,mydb)\n",
    "'''mycursor = mydb.cursor()\n",
    "mycursor.execute(sqlstmt)\n",
    "myresult = mycursor.fetchall()\n",
    "\n",
    "for x in myresult:\n",
    "  print(x)'''\n",
    "df = pd.DataFrame(sql_query, columns = ['location'])\n",
    "#print(df)\n",
    "df.dropna(inplace=True)\n",
    "df['location'].value_counts().plot(kind='pie',autopct='%1.2f%%',);\n",
    "  #colors = ['lightblue', 'lightcoral', 'lightgreen', 'lightpink', 'lightgrey']\n",
    "   # plt.pie(monthly_income, labels=income_sources, colors=colors, autopct='%1.1f%%')\n",
    "plt.title('Citywise Departments')\n",
    "plt.show()\n",
    "\n",
    "mydb.close()\n"
   ]
  },
  {
   "cell_type": "code",
   "execution_count": null,
   "id": "64d7b510-e5b2-4641-a5cf-227075edb0d2",
   "metadata": {},
   "outputs": [],
   "source": []
  }
 ],
 "metadata": {
  "kernelspec": {
   "display_name": "Python 3 (ipykernel)",
   "language": "python",
   "name": "python3"
  },
  "language_info": {
   "codemirror_mode": {
    "name": "ipython",
    "version": 3
   },
   "file_extension": ".py",
   "mimetype": "text/x-python",
   "name": "python",
   "nbconvert_exporter": "python",
   "pygments_lexer": "ipython3",
   "version": "3.12.1"
  }
 },
 "nbformat": 4,
 "nbformat_minor": 5
}
